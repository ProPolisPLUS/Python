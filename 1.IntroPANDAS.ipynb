{
 "cells": [
  {
   "cell_type": "code",
   "execution_count": 92,
   "id": "ace4de10-39fb-4650-9b6f-75dd43d7197e",
   "metadata": {},
   "outputs": [
    {
     "name": "stdout",
     "output_type": "stream",
     "text": [
      "               Hill Name  Height   Latitude  Longitude     Region\n",
      "0              Ben Nevis    1345  56.796850  -5.003508   Grampian\n",
      "1             Ben Macdui    1309  57.070453  -3.668262  Cairngorm\n",
      "2              Braeriach    1296  57.078628  -3.728024  Cairngorm\n",
      "3             Cairn Toul    1291  57.054611  -3.710420  Cairngorm\n",
      "4  Sgòr an Lochain Uaine    1258  57.057999  -3.725416  Cairngorm\n"
     ]
    }
   ],
   "source": [
    "import pandas as pd\n",
    "\n",
    "#Tip podatala RECNIK(Obnavljanje):\n",
    "'''ovaj tip podataka se sastoji iz para key:value...Mi ukucamo kljucu rijec on nam da informaciju'''\n",
    "crnogorski_recnik = {\"spaceship\" : \"Svemirski brod\"}\n",
    "'''Zatim moguce je pretraziti ovu rijec sledecom sintaksom crnogorski_recnik[\"spaceship\"]'''\n",
    "#print(crnogorski_recnik[\"spaceship\"]) \n",
    "''' Kao rezultat cemo dobiti svemirski brod resenje. Takodje recnici mogu imati vise unosa. npr\n",
    "crnogorski_recnik = {\"spaceship\":\"svemirskibrod\"\n",
    "\"bottle\":\"boca\"\n",
    "\"glass\":\"staklo\"\n",
    "\"sun\":\"sunce\"}....I tako dalje\n",
    "-Umjesto stringova(pod znacima navoda) mogu da stoje i brojevi ili bilo koji drugi tip podatka'''\n",
    "\n",
    "\n",
    "\n",
    "\n",
    "#Pandas ima dvije vrste strukture podataka: series i data ferame\n",
    "\n",
    "#SERIES\n",
    "my_series = pd.Series([4.5,2.5,-2,6])\n",
    "''''print(my_series)'''\n",
    "# print ce dati tabelu dje svaki broj ima pored sebe i svoj index, odnosno mjesto dje se nalazi u listi ili seriji\n",
    "# Ako samo zelimo vrijednosti da stampamo, tada cemo koristiti funkciju print(my_series.values)\n",
    "'''print(my_series.values)'''\n",
    "\n",
    "#DATA FRAME\n",
    "'''Ovaj tip cuvanja podataka se koristi cesce, ako nemamo podatke u vidu fajla, potrenbno je da sami ispisemo recnik\n",
    "a zatim ga sacuvamo u vidu dataframe. na primjer napravimo recnik dimenzija vrhova Skotske'''\n",
    "\n",
    "scottish_hills = {'Ben Nevis': (1345, 56.79685, -5.003508),\n",
    "                  'Ben Macdui': (1309, 57.070453, -3.668262),\n",
    "                  'Braeriach': (1296, 57.078628, -3.728024),\n",
    "                  'Cairn Toul': (1291, 57.054611, -3.71042),\n",
    "                  'Sgòr an Lochain Uaine': (1258, 57.057999, -3.725416)}\n",
    "'''Sada ocemo da sacuvamo ove bodatke u data frame ili skraceno df'''\n",
    "#df = pd.DataFrame(scottish_hills)\n",
    "#print(df)\n",
    "# ovakav print nam nece dati zadovoljavajucu tabelu, imamo 3 dimenzije pa je bolje ovu tabelu strukturirati na sledeci nacin\n",
    "scottish_hills1 = {'Hill Name': ['Ben Nevis', 'Ben Macdui', 'Braeriach', 'Cairn Toul', 'Sgòr an Lochain Uaine'],\n",
    "                  'Height': [1345, 1309, 1296, 1291, 1258],\n",
    "                  'Latitude': [56.79685, 57.070453, 57.078628, 57.054611, 57.057999],\n",
    "                  'Longitude': [-5.003508, -3.668262, -3.728024, -3.71042, -3.725416]}\n",
    "\n",
    "df = pd.DataFrame(scottish_hills1)\n",
    "#print(df)\n",
    "'''Ovdje key budu periode a value su grupe '''\n",
    "'''Ako nam se ne svijda redosled kolona, mozemo da iskoristimo sintaksu'''\n",
    "#df = pd.DataFrame(scottish_hills1, columns=['Hill Name', 'Height', 'Latitude', 'Longitude'])\n",
    "#print(df)\n",
    "'''U slucaju da ucitamo velik dataframe i ne zelimo da prikazemo sve funkcije, tada koristimo slede sintakse...Za prikazivanje prvih i zanjih redova'''\n",
    "#print(df.head(3))\n",
    "#print(df.tail(2))\n",
    "\n",
    "'''Ako zelimo da pozovemo samo jednu kolonu, koristimo sintaksu'''\n",
    "#print(df['Hill Name'])\n",
    "\n",
    "'''Ako ne zelimo da kucamo ime nego samo da pozovemo podatke o npr prvom vhru, koristimo  iloc sto znaci integer location ili mnogobrojna lokacija'''\n",
    "#df.iloc[0]\n",
    "\n",
    "'''Brzi nacin pristupa kolona je sintaksa'''\n",
    "#df.Height\n",
    "'''Ako zelimo da filtriramo podateke koristimo funkciju, odnosno prikazemo'''\n",
    "#df[df.Height > 1200]\n",
    "\n",
    "'''Ako zelimo da dodamo jos jednu kolonu koja se na primjer odnosi na region, dodajemo je ovako'''\n",
    "#df['Region'] = ['Grampian', 'Cairngorm', 'Cairngorm', 'Cairngorm', 'Cairngorm']\n",
    "#print(df)\n",
    "\n"
   ]
  },
  {
   "cell_type": "code",
   "execution_count": null,
   "id": "4c4f13fd-f209-464e-af67-524782463359",
   "metadata": {},
   "outputs": [],
   "source": []
  },
  {
   "cell_type": "code",
   "execution_count": null,
   "id": "cb19e7f9-5d56-4f45-846a-859a2428723b",
   "metadata": {},
   "outputs": [],
   "source": []
  }
 ],
 "metadata": {
  "kernelspec": {
   "display_name": "Python 3 (ipykernel)",
   "language": "python",
   "name": "python3"
  },
  "language_info": {
   "codemirror_mode": {
    "name": "ipython",
    "version": 3
   },
   "file_extension": ".py",
   "mimetype": "text/x-python",
   "name": "python",
   "nbconvert_exporter": "python",
   "pygments_lexer": "ipython3",
   "version": "3.12.0"
  }
 },
 "nbformat": 4,
 "nbformat_minor": 5
}
