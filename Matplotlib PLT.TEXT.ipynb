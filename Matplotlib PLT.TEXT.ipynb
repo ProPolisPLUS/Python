{
 "cells": [
  {
   "cell_type": "code",
   "execution_count": 32,
   "id": "8237d4ea-9cf9-4375-ba89-b25c09f0d07b",
   "metadata": {},
   "outputs": [
    {
     "data": {
      "text/plain": [
       "<matplotlib.collections.PathCollection at 0x181929a88c0>"
      ]
     },
     "execution_count": 32,
     "metadata": {},
     "output_type": "execute_result"
    },
    {
     "data": {
      "image/png": "[encoded data removed]",
      "text/plain": [
       "<Figure size 640x480 with 1 Axes>"
      ]
     },
     "metadata": {},
     "output_type": "display_data"
    }
   ],
   "source": [
    "import matplotlib.pyplot as plt\n",
    "\n",
    "\n",
    "x = [\"A\",\"B\",\"C\"]\n",
    "y = [40,50,10]\n",
    "\n",
    "plt.bar(x,y,color = \"lightgrey\", ec = \"Black\")\n",
    "'''plt.text(0,y[0],\"Hello\", ha=\"center\", va=\"bottom\")\n",
    "ova funkcija znaci dodaje tekst na kordinatama 0, y[0] gdje je y[0 prvo indeks u y listi.\n",
    "pod znacima navoda se dodaje string koji ce pisati ali i ne mora biti string, moze biti brojcana vrijednost.\n",
    "ha=\"\" i va=\"\"  su horizontal i vertikal axis, koriste se za centriranje teksta'''\n",
    "\n",
    "for i in range(len(x)):\n",
    "    plt.text(i,y[i],y[i], ha=\"center\", va=\"bottom\")\n",
    "plt.scatter(x[0],y[0], color=\"r\", s=60)\n",
    "    "
   ]
  },
  {
   "cell_type": "code",
   "execution_count": null,
   "id": "e6262d91-94df-49c4-947c-abd808e13d81",
   "metadata": {},
   "outputs": [],
   "source": [
    "import pandas as pd\n",
    "df = pd.read_csv(r\"C:\\Users\\Nikola\\Desktop\")\n"
   ]
  }
 ],
 "metadata": {
  "kernelspec": {
   "display_name": "Python 3 (ipykernel)",
   "language": "python",
   "name": "python3"
  },
  "language_info": {
   "codemirror_mode": {
    "name": "ipython",
    "version": 3
   },
   "file_extension": ".py",
   "mimetype": "text/x-python",
   "name": "python",
   "nbconvert_exporter": "python",
   "pygments_lexer": "ipython3",
   "version": "3.12.0"
  }
 },
 "nbformat": 4,
 "nbformat_minor": 5
}
